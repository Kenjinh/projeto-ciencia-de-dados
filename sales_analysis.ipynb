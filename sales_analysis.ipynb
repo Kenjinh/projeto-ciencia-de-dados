{
 "cells": [
  {
   "cell_type": "code",
   "execution_count": 25,
   "id": "8d1832a2",
   "metadata": {},
   "outputs": [],
   "source": [
    "import pandas as pd\n",
    "import  numpy as np\n",
    "import matplotlib.pyplot as plt \n",
    "import ipywidgets as widgets"
   ]
  },
  {
   "cell_type": "code",
   "execution_count": 26,
   "id": "d5914cbe",
   "metadata": {},
   "outputs": [
    {
     "data": {
      "text/html": [
       "<div>\n",
       "<style scoped>\n",
       "    .dataframe tbody tr th:only-of-type {\n",
       "        vertical-align: middle;\n",
       "    }\n",
       "\n",
       "    .dataframe tbody tr th {\n",
       "        vertical-align: top;\n",
       "    }\n",
       "\n",
       "    .dataframe thead th {\n",
       "        text-align: right;\n",
       "    }\n",
       "</style>\n",
       "<table border=\"1\" class=\"dataframe\">\n",
       "  <thead>\n",
       "    <tr style=\"text-align: right;\">\n",
       "      <th></th>\n",
       "      <th>Unnamed: 0</th>\n",
       "      <th>Order ID</th>\n",
       "      <th>Product</th>\n",
       "      <th>Quantity Ordered</th>\n",
       "      <th>Price Each</th>\n",
       "      <th>Order Date</th>\n",
       "      <th>Purchase Address</th>\n",
       "      <th>Month</th>\n",
       "      <th>City</th>\n",
       "    </tr>\n",
       "  </thead>\n",
       "  <tbody>\n",
       "    <tr>\n",
       "      <th>0</th>\n",
       "      <td>0</td>\n",
       "      <td>176558</td>\n",
       "      <td>USB-C Charging Cable</td>\n",
       "      <td>2</td>\n",
       "      <td>11.95</td>\n",
       "      <td>04/19/19 08:46</td>\n",
       "      <td>917 1st St, Dallas, TX 75001</td>\n",
       "      <td>4</td>\n",
       "      <td>Dallas  (TX)</td>\n",
       "    </tr>\n",
       "    <tr>\n",
       "      <th>1</th>\n",
       "      <td>2</td>\n",
       "      <td>176559</td>\n",
       "      <td>Bose SoundSport Headphones</td>\n",
       "      <td>1</td>\n",
       "      <td>99.99</td>\n",
       "      <td>04/07/19 22:30</td>\n",
       "      <td>682 Chestnut St, Boston, MA 02215</td>\n",
       "      <td>4</td>\n",
       "      <td>Boston  (MA)</td>\n",
       "    </tr>\n",
       "    <tr>\n",
       "      <th>2</th>\n",
       "      <td>3</td>\n",
       "      <td>176560</td>\n",
       "      <td>Google Phone</td>\n",
       "      <td>1</td>\n",
       "      <td>600.00</td>\n",
       "      <td>04/12/19 14:38</td>\n",
       "      <td>669 Spruce St, Los Angeles, CA 90001</td>\n",
       "      <td>4</td>\n",
       "      <td>Los Angeles  (CA)</td>\n",
       "    </tr>\n",
       "    <tr>\n",
       "      <th>3</th>\n",
       "      <td>4</td>\n",
       "      <td>176560</td>\n",
       "      <td>Wired Headphones</td>\n",
       "      <td>1</td>\n",
       "      <td>11.99</td>\n",
       "      <td>04/12/19 14:38</td>\n",
       "      <td>669 Spruce St, Los Angeles, CA 90001</td>\n",
       "      <td>4</td>\n",
       "      <td>Los Angeles  (CA)</td>\n",
       "    </tr>\n",
       "    <tr>\n",
       "      <th>4</th>\n",
       "      <td>5</td>\n",
       "      <td>176561</td>\n",
       "      <td>Wired Headphones</td>\n",
       "      <td>1</td>\n",
       "      <td>11.99</td>\n",
       "      <td>04/30/19 09:27</td>\n",
       "      <td>333 8th St, Los Angeles, CA 90001</td>\n",
       "      <td>4</td>\n",
       "      <td>Los Angeles  (CA)</td>\n",
       "    </tr>\n",
       "  </tbody>\n",
       "</table>\n",
       "</div>"
      ],
      "text/plain": [
       "   Unnamed: 0  Order ID                     Product  Quantity Ordered  \\\n",
       "0           0    176558        USB-C Charging Cable                 2   \n",
       "1           2    176559  Bose SoundSport Headphones                 1   \n",
       "2           3    176560                Google Phone                 1   \n",
       "3           4    176560            Wired Headphones                 1   \n",
       "4           5    176561            Wired Headphones                 1   \n",
       "\n",
       "   Price Each      Order Date                      Purchase Address  Month  \\\n",
       "0       11.95  04/19/19 08:46          917 1st St, Dallas, TX 75001      4   \n",
       "1       99.99  04/07/19 22:30     682 Chestnut St, Boston, MA 02215      4   \n",
       "2      600.00  04/12/19 14:38  669 Spruce St, Los Angeles, CA 90001      4   \n",
       "3       11.99  04/12/19 14:38  669 Spruce St, Los Angeles, CA 90001      4   \n",
       "4       11.99  04/30/19 09:27     333 8th St, Los Angeles, CA 90001      4   \n",
       "\n",
       "                City  \n",
       "0       Dallas  (TX)  \n",
       "1       Boston  (MA)  \n",
       "2  Los Angeles  (CA)  \n",
       "3  Los Angeles  (CA)  \n",
       "4  Los Angeles  (CA)  "
      ]
     },
     "execution_count": 26,
     "metadata": {},
     "output_type": "execute_result"
    }
   ],
   "source": [
    "filename = 'sales_data.csv'\n",
    "df = pd.read_csv(filename,\",\")\n",
    "\n",
    "df.head()"
   ]
  },
  {
   "cell_type": "markdown",
   "id": "ffb33b64",
   "metadata": {},
   "source": [
    "### Inserindo coluna de total da venda"
   ]
  },
  {
   "cell_type": "code",
   "execution_count": 27,
   "id": "f6439be0",
   "metadata": {},
   "outputs": [
    {
     "data": {
      "text/html": [
       "<div>\n",
       "<style scoped>\n",
       "    .dataframe tbody tr th:only-of-type {\n",
       "        vertical-align: middle;\n",
       "    }\n",
       "\n",
       "    .dataframe tbody tr th {\n",
       "        vertical-align: top;\n",
       "    }\n",
       "\n",
       "    .dataframe thead th {\n",
       "        text-align: right;\n",
       "    }\n",
       "</style>\n",
       "<table border=\"1\" class=\"dataframe\">\n",
       "  <thead>\n",
       "    <tr style=\"text-align: right;\">\n",
       "      <th></th>\n",
       "      <th>Unnamed: 0</th>\n",
       "      <th>Order ID</th>\n",
       "      <th>Product</th>\n",
       "      <th>Quantity Ordered</th>\n",
       "      <th>Price Each</th>\n",
       "      <th>Order Date</th>\n",
       "      <th>Purchase Address</th>\n",
       "      <th>Month</th>\n",
       "      <th>City</th>\n",
       "      <th>Sales</th>\n",
       "    </tr>\n",
       "  </thead>\n",
       "  <tbody>\n",
       "    <tr>\n",
       "      <th>0</th>\n",
       "      <td>0</td>\n",
       "      <td>176558</td>\n",
       "      <td>USB-C Charging Cable</td>\n",
       "      <td>2</td>\n",
       "      <td>11.95</td>\n",
       "      <td>04/19/19 08:46</td>\n",
       "      <td>917 1st St, Dallas, TX 75001</td>\n",
       "      <td>4</td>\n",
       "      <td>Dallas  (TX)</td>\n",
       "      <td>23.90</td>\n",
       "    </tr>\n",
       "    <tr>\n",
       "      <th>1</th>\n",
       "      <td>2</td>\n",
       "      <td>176559</td>\n",
       "      <td>Bose SoundSport Headphones</td>\n",
       "      <td>1</td>\n",
       "      <td>99.99</td>\n",
       "      <td>04/07/19 22:30</td>\n",
       "      <td>682 Chestnut St, Boston, MA 02215</td>\n",
       "      <td>4</td>\n",
       "      <td>Boston  (MA)</td>\n",
       "      <td>99.99</td>\n",
       "    </tr>\n",
       "    <tr>\n",
       "      <th>2</th>\n",
       "      <td>3</td>\n",
       "      <td>176560</td>\n",
       "      <td>Google Phone</td>\n",
       "      <td>1</td>\n",
       "      <td>600.00</td>\n",
       "      <td>04/12/19 14:38</td>\n",
       "      <td>669 Spruce St, Los Angeles, CA 90001</td>\n",
       "      <td>4</td>\n",
       "      <td>Los Angeles  (CA)</td>\n",
       "      <td>600.00</td>\n",
       "    </tr>\n",
       "    <tr>\n",
       "      <th>3</th>\n",
       "      <td>4</td>\n",
       "      <td>176560</td>\n",
       "      <td>Wired Headphones</td>\n",
       "      <td>1</td>\n",
       "      <td>11.99</td>\n",
       "      <td>04/12/19 14:38</td>\n",
       "      <td>669 Spruce St, Los Angeles, CA 90001</td>\n",
       "      <td>4</td>\n",
       "      <td>Los Angeles  (CA)</td>\n",
       "      <td>11.99</td>\n",
       "    </tr>\n",
       "    <tr>\n",
       "      <th>4</th>\n",
       "      <td>5</td>\n",
       "      <td>176561</td>\n",
       "      <td>Wired Headphones</td>\n",
       "      <td>1</td>\n",
       "      <td>11.99</td>\n",
       "      <td>04/30/19 09:27</td>\n",
       "      <td>333 8th St, Los Angeles, CA 90001</td>\n",
       "      <td>4</td>\n",
       "      <td>Los Angeles  (CA)</td>\n",
       "      <td>11.99</td>\n",
       "    </tr>\n",
       "  </tbody>\n",
       "</table>\n",
       "</div>"
      ],
      "text/plain": [
       "   Unnamed: 0  Order ID                     Product  Quantity Ordered  \\\n",
       "0           0    176558        USB-C Charging Cable                 2   \n",
       "1           2    176559  Bose SoundSport Headphones                 1   \n",
       "2           3    176560                Google Phone                 1   \n",
       "3           4    176560            Wired Headphones                 1   \n",
       "4           5    176561            Wired Headphones                 1   \n",
       "\n",
       "   Price Each      Order Date                      Purchase Address  Month  \\\n",
       "0       11.95  04/19/19 08:46          917 1st St, Dallas, TX 75001      4   \n",
       "1       99.99  04/07/19 22:30     682 Chestnut St, Boston, MA 02215      4   \n",
       "2      600.00  04/12/19 14:38  669 Spruce St, Los Angeles, CA 90001      4   \n",
       "3       11.99  04/12/19 14:38  669 Spruce St, Los Angeles, CA 90001      4   \n",
       "4       11.99  04/30/19 09:27     333 8th St, Los Angeles, CA 90001      4   \n",
       "\n",
       "                City   Sales  \n",
       "0       Dallas  (TX)   23.90  \n",
       "1       Boston  (MA)   99.99  \n",
       "2  Los Angeles  (CA)  600.00  \n",
       "3  Los Angeles  (CA)   11.99  \n",
       "4  Los Angeles  (CA)   11.99  "
      ]
     },
     "execution_count": 27,
     "metadata": {},
     "output_type": "execute_result"
    }
   ],
   "source": [
    "df['Sales'] = df['Quantity Ordered'] * df['Price Each']\n",
    "df.head()"
   ]
  },
  {
   "cell_type": "markdown",
   "id": "7370084c",
   "metadata": {},
   "source": [
    "### Gráfico de total de vendas por mês"
   ]
  },
  {
   "cell_type": "code",
   "execution_count": 28,
   "id": "93d5131b",
   "metadata": {},
   "outputs": [
    {
     "data": {
      "image/png": "[encoded data removed]",
      "text/plain": [
       "<Figure size 432x288 with 1 Axes>"
      ]
     },
     "metadata": {
      "needs_background": "light"
     },
     "output_type": "display_data"
    }
   ],
   "source": [
    "ax = df.groupby (['Month']).sum() ['Sales'].plot(kind='bar')\n",
    "plt.ylabel('Sales($)')\n",
    "plt.xlabel('Month')\n",
    "plt.show ()"
   ]
  },
  {
   "cell_type": "code",
   "execution_count": 29,
   "id": "216747af",
   "metadata": {},
   "outputs": [],
   "source": [
    "city = widgets.Dropdown(name = 'City')"
   ]
  },
  {
   "cell_type": "code",
   "execution_count": 30,
   "id": "892e9efc",
   "metadata": {},
   "outputs": [
    {
     "data": {
      "text/plain": [
       "['Dallas  (TX)',\n",
       " 'Boston  (MA)',\n",
       " 'Los Angeles  (CA)',\n",
       " 'San Francisco  (CA)',\n",
       " 'Seattle  (WA)',\n",
       " 'Atlanta  (GA)',\n",
       " 'New York City  (NY)',\n",
       " 'Portland  (OR)',\n",
       " 'Austin  (TX)',\n",
       " 'Portland  (ME)']"
      ]
     },
     "execution_count": 30,
     "metadata": {},
     "output_type": "execute_result"
    }
   ],
   "source": [
    "list (df.City.unique())"
   ]
  },
  {
   "cell_type": "code",
   "execution_count": 31,
   "id": "998f06cc",
   "metadata": {},
   "outputs": [],
   "source": [
    "wid_city = widgets.Dropdown(name='city')"
   ]
  },
  {
   "cell_type": "code",
   "execution_count": 32,
   "id": "31599615",
   "metadata": {},
   "outputs": [],
   "source": [
    "wid_city.options = list (df.City.unique())"
   ]
  },
  {
   "cell_type": "markdown",
   "id": "6c5be01d",
   "metadata": {},
   "source": [
    "### Criando seletor de Cidades"
   ]
  },
  {
   "cell_type": "code",
   "execution_count": 33,
   "id": "ab5a7fd7",
   "metadata": {},
   "outputs": [
    {
     "data": {
      "application/vnd.jupyter.widget-view+json": {
       "model_id": "ef051e8527a7473a93b976ee1c2dc351",
       "version_major": 2,
       "version_minor": 0
      },
      "text/plain": [
       "Dropdown(options=('Dallas  (TX)', 'Boston  (MA)', 'Los Angeles  (CA)', 'San Francisco  (CA)', 'Seattle  (WA)',…"
      ]
     },
     "metadata": {},
     "output_type": "display_data"
    }
   ],
   "source": [
    "wid_city"
   ]
  },
  {
   "cell_type": "code",
   "execution_count": 34,
   "id": "9f734366",
   "metadata": {},
   "outputs": [
    {
     "data": {
      "text/plain": [
       "'Dallas  (TX)'"
      ]
     },
     "execution_count": 34,
     "metadata": {},
     "output_type": "execute_result"
    }
   ],
   "source": [
    "wid_city.value"
   ]
  },
  {
   "cell_type": "markdown",
   "id": "03d5d44e",
   "metadata": {},
   "source": [
    "### Gráfico de vendas pela cidade escolhida"
   ]
  },
  {
   "cell_type": "code",
   "execution_count": 35,
   "id": "32f7ba71",
   "metadata": {},
   "outputs": [
    {
     "data": {
      "image/png": "[encoded data removed]",
      "text/plain": [
       "<Figure size 432x288 with 1 Axes>"
      ]
     },
     "metadata": {
      "needs_background": "light"
     },
     "output_type": "display_data"
    }
   ],
   "source": [
    "df_tmp =df[df['City']==wid_city.value].copy()\n",
    "ax = df_tmp.groupby (['Month']).sum() ['Sales'].plot(kind='bar')\n",
    "plt.ylabel('Sales($)')\n",
    "plt.xlabel('Month')\n",
    "plt.show ()"
   ]
  },
  {
   "cell_type": "markdown",
   "id": "6759500e",
   "metadata": {},
   "source": [
    "### Gráfico interativo de vendas por cidade e produto"
   ]
  },
  {
   "cell_type": "code",
   "execution_count": 36,
   "id": "a4790eb3",
   "metadata": {
    "scrolled": false
   },
   "outputs": [
    {
     "data": {
      "application/vnd.jupyter.widget-view+json": {
       "model_id": "3503101726274780843b2f88817bc665",
       "version_major": 2,
       "version_minor": 0
      },
      "text/plain": [
       "interactive(children=(Dropdown(description='city', options=('Dallas  (TX)', 'Boston  (MA)', 'Los Angeles  (CA)…"
      ]
     },
     "metadata": {},
     "output_type": "display_data"
    }
   ],
   "source": [
    "wid_city = widgets.Dropdown(name='city')\n",
    "wid_city.options = list (df.City.unique())\n",
    "\n",
    "wid_product = widgets.Dropdown(name='product')\n",
    "wid_product.options = list(df.Product.unique())\n",
    "\n",
    "def func (city,product):\n",
    "    \n",
    "    df_tmp = df[df['City'] == wid_city.value].copy()\n",
    "    df_tmp = df_tmp[df_tmp['Product'] == wid_product.value]\n",
    "        \n",
    "    ax = df_tmp.groupby(['Month']).sum()['Sales'].plot(kind='bar')\n",
    "    plt.ylabel('Sales($)')\n",
    "    plt.xlabel('Month')\n",
    "    plt.show()\n",
    "    \n",
    "interactive_plot = widgets.interactive(func, city=wid_city, product=wid_product)\n",
    "    \n",
    "output = interactive_plot.children[-1]\n",
    "output.layout.height = '350px'\n",
    "    \n",
    "interactive_plot"
   ]
  },
  {
   "cell_type": "code",
   "execution_count": 37,
   "id": "7471bb78",
   "metadata": {},
   "outputs": [],
   "source": [
    "from sklearn.model_selection import train_test_split\n",
    "from sklearn.linear_model import LogisticRegression\n",
    "from sklearn import metrics"
   ]
  },
  {
   "cell_type": "code",
   "execution_count": 97,
   "id": "94f04a53",
   "metadata": {},
   "outputs": [
    {
     "data": {
      "text/html": [
       "<div>\n",
       "<style scoped>\n",
       "    .dataframe tbody tr th:only-of-type {\n",
       "        vertical-align: middle;\n",
       "    }\n",
       "\n",
       "    .dataframe tbody tr th {\n",
       "        vertical-align: top;\n",
       "    }\n",
       "\n",
       "    .dataframe thead th {\n",
       "        text-align: right;\n",
       "    }\n",
       "</style>\n",
       "<table border=\"1\" class=\"dataframe\">\n",
       "  <thead>\n",
       "    <tr style=\"text-align: right;\">\n",
       "      <th></th>\n",
       "      <th>Price Each</th>\n",
       "      <th>Quantity Ordered</th>\n",
       "      <th>Sales</th>\n",
       "      <th>Meta</th>\n",
       "    </tr>\n",
       "    <tr>\n",
       "      <th>Product</th>\n",
       "      <th></th>\n",
       "      <th></th>\n",
       "      <th></th>\n",
       "      <th></th>\n",
       "    </tr>\n",
       "  </thead>\n",
       "  <tbody>\n",
       "    <tr>\n",
       "      <th>20in Monitor</th>\n",
       "      <td>451068.99</td>\n",
       "      <td>4129</td>\n",
       "      <td>1.862464e+09</td>\n",
       "      <td>1</td>\n",
       "    </tr>\n",
       "    <tr>\n",
       "      <th>27in 4K Gaming Monitor</th>\n",
       "      <td>2429637.70</td>\n",
       "      <td>6244</td>\n",
       "      <td>1.517066e+10</td>\n",
       "      <td>1</td>\n",
       "    </tr>\n",
       "    <tr>\n",
       "      <th>27in FHD Monitor</th>\n",
       "      <td>1125974.93</td>\n",
       "      <td>7550</td>\n",
       "      <td>8.501111e+09</td>\n",
       "      <td>1</td>\n",
       "    </tr>\n",
       "    <tr>\n",
       "      <th>34in Ultrawide Monitor</th>\n",
       "      <td>2348718.19</td>\n",
       "      <td>6199</td>\n",
       "      <td>1.455970e+10</td>\n",
       "      <td>1</td>\n",
       "    </tr>\n",
       "    <tr>\n",
       "      <th>AA Batteries (4-pack)</th>\n",
       "      <td>79015.68</td>\n",
       "      <td>27635</td>\n",
       "      <td>2.183598e+09</td>\n",
       "      <td>1</td>\n",
       "    </tr>\n",
       "    <tr>\n",
       "      <th>AAA Batteries (4-pack)</th>\n",
       "      <td>61716.59</td>\n",
       "      <td>31017</td>\n",
       "      <td>1.914263e+09</td>\n",
       "      <td>1</td>\n",
       "    </tr>\n",
       "    <tr>\n",
       "      <th>Apple Airpods Headphones</th>\n",
       "      <td>2332350.00</td>\n",
       "      <td>15661</td>\n",
       "      <td>3.652693e+10</td>\n",
       "      <td>1</td>\n",
       "    </tr>\n",
       "    <tr>\n",
       "      <th>Bose SoundSport Headphones</th>\n",
       "      <td>1332366.75</td>\n",
       "      <td>13457</td>\n",
       "      <td>1.792966e+10</td>\n",
       "      <td>1</td>\n",
       "    </tr>\n",
       "    <tr>\n",
       "      <th>Flatscreen TV</th>\n",
       "      <td>1440000.00</td>\n",
       "      <td>4819</td>\n",
       "      <td>6.939360e+09</td>\n",
       "      <td>1</td>\n",
       "    </tr>\n",
       "    <tr>\n",
       "      <th>Google Phone</th>\n",
       "      <td>3315000.00</td>\n",
       "      <td>5532</td>\n",
       "      <td>1.833858e+10</td>\n",
       "      <td>1</td>\n",
       "    </tr>\n",
       "    <tr>\n",
       "      <th>LG Dryer</th>\n",
       "      <td>387600.00</td>\n",
       "      <td>646</td>\n",
       "      <td>2.503896e+08</td>\n",
       "      <td>0</td>\n",
       "    </tr>\n",
       "    <tr>\n",
       "      <th>LG Washing Machine</th>\n",
       "      <td>399600.00</td>\n",
       "      <td>666</td>\n",
       "      <td>2.661336e+08</td>\n",
       "      <td>0</td>\n",
       "    </tr>\n",
       "    <tr>\n",
       "      <th>Lightning Charging Cable</th>\n",
       "      <td>323787.10</td>\n",
       "      <td>23217</td>\n",
       "      <td>7.517365e+09</td>\n",
       "      <td>1</td>\n",
       "    </tr>\n",
       "    <tr>\n",
       "      <th>Macbook Pro Laptop</th>\n",
       "      <td>8030800.00</td>\n",
       "      <td>4728</td>\n",
       "      <td>3.796962e+10</td>\n",
       "      <td>1</td>\n",
       "    </tr>\n",
       "    <tr>\n",
       "      <th>ThinkPad Laptop</th>\n",
       "      <td>4127958.72</td>\n",
       "      <td>4130</td>\n",
       "      <td>1.704847e+10</td>\n",
       "      <td>1</td>\n",
       "    </tr>\n",
       "    <tr>\n",
       "      <th>USB-C Charging Cable</th>\n",
       "      <td>261740.85</td>\n",
       "      <td>23975</td>\n",
       "      <td>6.275237e+09</td>\n",
       "      <td>1</td>\n",
       "    </tr>\n",
       "    <tr>\n",
       "      <th>Vareebadd Phone</th>\n",
       "      <td>826000.00</td>\n",
       "      <td>2068</td>\n",
       "      <td>1.708168e+09</td>\n",
       "      <td>1</td>\n",
       "    </tr>\n",
       "    <tr>\n",
       "      <th>Wired Headphones</th>\n",
       "      <td>226395.18</td>\n",
       "      <td>20557</td>\n",
       "      <td>4.654006e+09</td>\n",
       "      <td>1</td>\n",
       "    </tr>\n",
       "    <tr>\n",
       "      <th>iPhone</th>\n",
       "      <td>4789400.00</td>\n",
       "      <td>6849</td>\n",
       "      <td>3.280260e+10</td>\n",
       "      <td>1</td>\n",
       "    </tr>\n",
       "  </tbody>\n",
       "</table>\n",
       "</div>"
      ],
      "text/plain": [
       "                            Price Each  Quantity Ordered         Sales Meta\n",
       "Product                                                                    \n",
       "20in Monitor                 451068.99              4129  1.862464e+09    1\n",
       "27in 4K Gaming Monitor      2429637.70              6244  1.517066e+10    1\n",
       "27in FHD Monitor            1125974.93              7550  8.501111e+09    1\n",
       "34in Ultrawide Monitor      2348718.19              6199  1.455970e+10    1\n",
       "AA Batteries (4-pack)         79015.68             27635  2.183598e+09    1\n",
       "AAA Batteries (4-pack)        61716.59             31017  1.914263e+09    1\n",
       "Apple Airpods Headphones    2332350.00             15661  3.652693e+10    1\n",
       "Bose SoundSport Headphones  1332366.75             13457  1.792966e+10    1\n",
       "Flatscreen TV               1440000.00              4819  6.939360e+09    1\n",
       "Google Phone                3315000.00              5532  1.833858e+10    1\n",
       "LG Dryer                     387600.00               646  2.503896e+08    0\n",
       "LG Washing Machine           399600.00               666  2.661336e+08    0\n",
       "Lightning Charging Cable     323787.10             23217  7.517365e+09    1\n",
       "Macbook Pro Laptop          8030800.00              4728  3.796962e+10    1\n",
       "ThinkPad Laptop             4127958.72              4130  1.704847e+10    1\n",
       "USB-C Charging Cable         261740.85             23975  6.275237e+09    1\n",
       "Vareebadd Phone              826000.00              2068  1.708168e+09    1\n",
       "Wired Headphones             226395.18             20557  4.654006e+09    1\n",
       "iPhone                      4789400.00              6849  3.280260e+10    1"
      ]
     },
     "execution_count": 97,
     "metadata": {},
     "output_type": "execute_result"
    }
   ],
   "source": [
    "filter = ['Product','Price Each','Quantity Ordered']\n",
    "dt = df.filter(items= filter)\n",
    "prod = dt.groupby(['Product']).sum()\n",
    "prod['Sales'] = prod['Quantity Ordered'] * prod['Price Each']\n",
    "prod.loc[prod['Quantity Ordered'] < 1000, 'Meta'] = '0'\n",
    "prod.loc[prod['Quantity Ordered'] > 1000, 'Meta'] = '1'\n",
    "prod"
   ]
  },
  {
   "cell_type": "markdown",
   "id": "29ac8ec0",
   "metadata": {},
   "source": [
    "### Previsão de meta de vendas"
   ]
  },
  {
   "cell_type": "code",
   "execution_count": 105,
   "id": "d741594b",
   "metadata": {},
   "outputs": [
    {
     "data": {
      "text/html": [
       "<div>\n",
       "<style scoped>\n",
       "    .dataframe tbody tr th:only-of-type {\n",
       "        vertical-align: middle;\n",
       "    }\n",
       "\n",
       "    .dataframe tbody tr th {\n",
       "        vertical-align: top;\n",
       "    }\n",
       "\n",
       "    .dataframe thead th {\n",
       "        text-align: right;\n",
       "    }\n",
       "</style>\n",
       "<table border=\"1\" class=\"dataframe\">\n",
       "  <thead>\n",
       "    <tr style=\"text-align: right;\">\n",
       "      <th></th>\n",
       "      <th>Meta</th>\n",
       "      <th>Pred</th>\n",
       "    </tr>\n",
       "    <tr>\n",
       "      <th>Product</th>\n",
       "      <th></th>\n",
       "      <th></th>\n",
       "    </tr>\n",
       "  </thead>\n",
       "  <tbody>\n",
       "    <tr>\n",
       "      <th>Flatscreen TV</th>\n",
       "      <td>1</td>\n",
       "      <td>1</td>\n",
       "    </tr>\n",
       "    <tr>\n",
       "      <th>Apple Airpods Headphones</th>\n",
       "      <td>1</td>\n",
       "      <td>1</td>\n",
       "    </tr>\n",
       "    <tr>\n",
       "      <th>20in Monitor</th>\n",
       "      <td>1</td>\n",
       "      <td>1</td>\n",
       "    </tr>\n",
       "    <tr>\n",
       "      <th>AAA Batteries (4-pack)</th>\n",
       "      <td>1</td>\n",
       "      <td>1</td>\n",
       "    </tr>\n",
       "    <tr>\n",
       "      <th>iPhone</th>\n",
       "      <td>1</td>\n",
       "      <td>1</td>\n",
       "    </tr>\n",
       "    <tr>\n",
       "      <th>Lightning Charging Cable</th>\n",
       "      <td>1</td>\n",
       "      <td>1</td>\n",
       "    </tr>\n",
       "  </tbody>\n",
       "</table>\n",
       "</div>"
      ],
      "text/plain": [
       "                         Meta Pred\n",
       "Product                           \n",
       "Flatscreen TV               1    1\n",
       "Apple Airpods Headphones    1    1\n",
       "20in Monitor                1    1\n",
       "AAA Batteries (4-pack)      1    1\n",
       "iPhone                      1    1\n",
       "Lightning Charging Cable    1    1"
      ]
     },
     "execution_count": 105,
     "metadata": {},
     "output_type": "execute_result"
    }
   ],
   "source": [
    "X = prod.drop('Meta', 1)\n",
    "y = prod['Meta']\n",
    "\n",
    "X_train, X_test, y_train, y_test = train_test_split(X, y, test_size=0.3)\n",
    "\n",
    "lm = LogisticRegression()\n",
    "lm.fit(X_train, y_train)\n",
    "\n",
    "pred = lm.predict(X_test)\n",
    "\n",
    "dis = pd.DataFrame(y_test)\n",
    "dis['Pred'] = pred\n",
    "\n",
    "dis"
   ]
  }
 ],
 "metadata": {
  "kernelspec": {
   "display_name": "Python 3",
   "language": "python",
   "name": "python3"
  },
  "language_info": {
   "codemirror_mode": {
    "name": "ipython",
    "version": 3
   },
   "file_extension": ".py",
   "mimetype": "text/x-python",
   "name": "python",
   "nbconvert_exporter": "python",
   "pygments_lexer": "ipython3",
   "version": "3.8.8"
  }
 },
 "nbformat": 4,
 "nbformat_minor": 5
}
