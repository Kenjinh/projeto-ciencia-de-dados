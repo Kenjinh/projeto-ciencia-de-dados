{
 "cells": [
  {
   "cell_type": "code",
   "execution_count": 1,
   "id": "8d1832a2",
   "metadata": {},
   "outputs": [],
   "source": [
    "import pandas as pd\n",
    "import  numpy as np\n",
    "import matplotlib.pyplot as plt \n",
    "import ipywidgets as widgets"
   ]
  },
  {
   "cell_type": "code",
   "execution_count": 5,
   "id": "d5914cbe",
   "metadata": {},
   "outputs": [
    {
     "data": {
      "text/html": [
       "<div>\n",
       "<style scoped>\n",
       "    .dataframe tbody tr th:only-of-type {\n",
       "        vertical-align: middle;\n",
       "    }\n",
       "\n",
       "    .dataframe tbody tr th {\n",
       "        vertical-align: top;\n",
       "    }\n",
       "\n",
       "    .dataframe thead th {\n",
       "        text-align: right;\n",
       "    }\n",
       "</style>\n",
       "<table border=\"1\" class=\"dataframe\">\n",
       "  <thead>\n",
       "    <tr style=\"text-align: right;\">\n",
       "      <th></th>\n",
       "      <th>Unnamed: 0</th>\n",
       "      <th>Order ID</th>\n",
       "      <th>Product</th>\n",
       "      <th>Quantity Ordered</th>\n",
       "      <th>Price Each</th>\n",
       "      <th>Order Date</th>\n",
       "      <th>Purchase Address</th>\n",
       "      <th>Month</th>\n",
       "      <th>City</th>\n",
       "    </tr>\n",
       "  </thead>\n",
       "  <tbody>\n",
       "    <tr>\n",
       "      <th>0</th>\n",
       "      <td>0</td>\n",
       "      <td>176558</td>\n",
       "      <td>USB-C Charging Cable</td>\n",
       "      <td>2</td>\n",
       "      <td>11.95</td>\n",
       "      <td>04/19/19 08:46</td>\n",
       "      <td>917 1st St, Dallas, TX 75001</td>\n",
       "      <td>4</td>\n",
       "      <td>Dallas  (TX)</td>\n",
       "    </tr>\n",
       "    <tr>\n",
       "      <th>1</th>\n",
       "      <td>2</td>\n",
       "      <td>176559</td>\n",
       "      <td>Bose SoundSport Headphones</td>\n",
       "      <td>1</td>\n",
       "      <td>99.99</td>\n",
       "      <td>04/07/19 22:30</td>\n",
       "      <td>682 Chestnut St, Boston, MA 02215</td>\n",
       "      <td>4</td>\n",
       "      <td>Boston  (MA)</td>\n",
       "    </tr>\n",
       "    <tr>\n",
       "      <th>2</th>\n",
       "      <td>3</td>\n",
       "      <td>176560</td>\n",
       "      <td>Google Phone</td>\n",
       "      <td>1</td>\n",
       "      <td>600.00</td>\n",
       "      <td>04/12/19 14:38</td>\n",
       "      <td>669 Spruce St, Los Angeles, CA 90001</td>\n",
       "      <td>4</td>\n",
       "      <td>Los Angeles  (CA)</td>\n",
       "    </tr>\n",
       "    <tr>\n",
       "      <th>3</th>\n",
       "      <td>4</td>\n",
       "      <td>176560</td>\n",
       "      <td>Wired Headphones</td>\n",
       "      <td>1</td>\n",
       "      <td>11.99</td>\n",
       "      <td>04/12/19 14:38</td>\n",
       "      <td>669 Spruce St, Los Angeles, CA 90001</td>\n",
       "      <td>4</td>\n",
       "      <td>Los Angeles  (CA)</td>\n",
       "    </tr>\n",
       "    <tr>\n",
       "      <th>4</th>\n",
       "      <td>5</td>\n",
       "      <td>176561</td>\n",
       "      <td>Wired Headphones</td>\n",
       "      <td>1</td>\n",
       "      <td>11.99</td>\n",
       "      <td>04/30/19 09:27</td>\n",
       "      <td>333 8th St, Los Angeles, CA 90001</td>\n",
       "      <td>4</td>\n",
       "      <td>Los Angeles  (CA)</td>\n",
       "    </tr>\n",
       "  </tbody>\n",
       "</table>\n",
       "</div>"
      ],
      "text/plain": [
       "   Unnamed: 0  Order ID                     Product  Quantity Ordered  \\\n",
       "0           0    176558        USB-C Charging Cable                 2   \n",
       "1           2    176559  Bose SoundSport Headphones                 1   \n",
       "2           3    176560                Google Phone                 1   \n",
       "3           4    176560            Wired Headphones                 1   \n",
       "4           5    176561            Wired Headphones                 1   \n",
       "\n",
       "   Price Each      Order Date                      Purchase Address  Month  \\\n",
       "0       11.95  04/19/19 08:46          917 1st St, Dallas, TX 75001      4   \n",
       "1       99.99  04/07/19 22:30     682 Chestnut St, Boston, MA 02215      4   \n",
       "2      600.00  04/12/19 14:38  669 Spruce St, Los Angeles, CA 90001      4   \n",
       "3       11.99  04/12/19 14:38  669 Spruce St, Los Angeles, CA 90001      4   \n",
       "4       11.99  04/30/19 09:27     333 8th St, Los Angeles, CA 90001      4   \n",
       "\n",
       "                City  \n",
       "0       Dallas  (TX)  \n",
       "1       Boston  (MA)  \n",
       "2  Los Angeles  (CA)  \n",
       "3  Los Angeles  (CA)  \n",
       "4  Los Angeles  (CA)  "
      ]
     },
     "execution_count": 5,
     "metadata": {},
     "output_type": "execute_result"
    }
   ],
   "source": [
    "filename = 'sales_data.csv'\n",
    "df = pd.read_csv(filename,\",\")\n",
    "\n",
    "df.head()"
   ]
  },
  {
   "cell_type": "code",
   "execution_count": 6,
   "id": "f6439be0",
   "metadata": {},
   "outputs": [
    {
     "data": {
      "text/html": [
       "<div>\n",
       "<style scoped>\n",
       "    .dataframe tbody tr th:only-of-type {\n",
       "        vertical-align: middle;\n",
       "    }\n",
       "\n",
       "    .dataframe tbody tr th {\n",
       "        vertical-align: top;\n",
       "    }\n",
       "\n",
       "    .dataframe thead th {\n",
       "        text-align: right;\n",
       "    }\n",
       "</style>\n",
       "<table border=\"1\" class=\"dataframe\">\n",
       "  <thead>\n",
       "    <tr style=\"text-align: right;\">\n",
       "      <th></th>\n",
       "      <th>Unnamed: 0</th>\n",
       "      <th>Order ID</th>\n",
       "      <th>Product</th>\n",
       "      <th>Quantity Ordered</th>\n",
       "      <th>Price Each</th>\n",
       "      <th>Order Date</th>\n",
       "      <th>Purchase Address</th>\n",
       "      <th>Month</th>\n",
       "      <th>City</th>\n",
       "      <th>sales</th>\n",
       "    </tr>\n",
       "  </thead>\n",
       "  <tbody>\n",
       "    <tr>\n",
       "      <th>0</th>\n",
       "      <td>0</td>\n",
       "      <td>176558</td>\n",
       "      <td>USB-C Charging Cable</td>\n",
       "      <td>2</td>\n",
       "      <td>11.95</td>\n",
       "      <td>04/19/19 08:46</td>\n",
       "      <td>917 1st St, Dallas, TX 75001</td>\n",
       "      <td>4</td>\n",
       "      <td>Dallas  (TX)</td>\n",
       "      <td>23.90</td>\n",
       "    </tr>\n",
       "    <tr>\n",
       "      <th>1</th>\n",
       "      <td>2</td>\n",
       "      <td>176559</td>\n",
       "      <td>Bose SoundSport Headphones</td>\n",
       "      <td>1</td>\n",
       "      <td>99.99</td>\n",
       "      <td>04/07/19 22:30</td>\n",
       "      <td>682 Chestnut St, Boston, MA 02215</td>\n",
       "      <td>4</td>\n",
       "      <td>Boston  (MA)</td>\n",
       "      <td>99.99</td>\n",
       "    </tr>\n",
       "    <tr>\n",
       "      <th>2</th>\n",
       "      <td>3</td>\n",
       "      <td>176560</td>\n",
       "      <td>Google Phone</td>\n",
       "      <td>1</td>\n",
       "      <td>600.00</td>\n",
       "      <td>04/12/19 14:38</td>\n",
       "      <td>669 Spruce St, Los Angeles, CA 90001</td>\n",
       "      <td>4</td>\n",
       "      <td>Los Angeles  (CA)</td>\n",
       "      <td>600.00</td>\n",
       "    </tr>\n",
       "    <tr>\n",
       "      <th>3</th>\n",
       "      <td>4</td>\n",
       "      <td>176560</td>\n",
       "      <td>Wired Headphones</td>\n",
       "      <td>1</td>\n",
       "      <td>11.99</td>\n",
       "      <td>04/12/19 14:38</td>\n",
       "      <td>669 Spruce St, Los Angeles, CA 90001</td>\n",
       "      <td>4</td>\n",
       "      <td>Los Angeles  (CA)</td>\n",
       "      <td>11.99</td>\n",
       "    </tr>\n",
       "    <tr>\n",
       "      <th>4</th>\n",
       "      <td>5</td>\n",
       "      <td>176561</td>\n",
       "      <td>Wired Headphones</td>\n",
       "      <td>1</td>\n",
       "      <td>11.99</td>\n",
       "      <td>04/30/19 09:27</td>\n",
       "      <td>333 8th St, Los Angeles, CA 90001</td>\n",
       "      <td>4</td>\n",
       "      <td>Los Angeles  (CA)</td>\n",
       "      <td>11.99</td>\n",
       "    </tr>\n",
       "  </tbody>\n",
       "</table>\n",
       "</div>"
      ],
      "text/plain": [
       "   Unnamed: 0  Order ID                     Product  Quantity Ordered  \\\n",
       "0           0    176558        USB-C Charging Cable                 2   \n",
       "1           2    176559  Bose SoundSport Headphones                 1   \n",
       "2           3    176560                Google Phone                 1   \n",
       "3           4    176560            Wired Headphones                 1   \n",
       "4           5    176561            Wired Headphones                 1   \n",
       "\n",
       "   Price Each      Order Date                      Purchase Address  Month  \\\n",
       "0       11.95  04/19/19 08:46          917 1st St, Dallas, TX 75001      4   \n",
       "1       99.99  04/07/19 22:30     682 Chestnut St, Boston, MA 02215      4   \n",
       "2      600.00  04/12/19 14:38  669 Spruce St, Los Angeles, CA 90001      4   \n",
       "3       11.99  04/12/19 14:38  669 Spruce St, Los Angeles, CA 90001      4   \n",
       "4       11.99  04/30/19 09:27     333 8th St, Los Angeles, CA 90001      4   \n",
       "\n",
       "                City   sales  \n",
       "0       Dallas  (TX)   23.90  \n",
       "1       Boston  (MA)   99.99  \n",
       "2  Los Angeles  (CA)  600.00  \n",
       "3  Los Angeles  (CA)   11.99  \n",
       "4  Los Angeles  (CA)   11.99  "
      ]
     },
     "execution_count": 6,
     "metadata": {},
     "output_type": "execute_result"
    }
   ],
   "source": [
    "df['sales'] = df['Quantity Ordered'] * df['Price Each']\n",
    "df.head()"
   ]
  },
  {
   "cell_type": "code",
   "execution_count": 7,
   "id": "93d5131b",
   "metadata": {},
   "outputs": [
    {
     "data": {
      "image/png": "[encoded data removed]",
      "text/plain": [
       "<Figure size 432x288 with 1 Axes>"
      ]
     },
     "metadata": {
      "needs_background": "light"
     },
     "output_type": "display_data"
    }
   ],
   "source": [
    "ax = df.groupby (['Month']).sum() ['sales'].plot(kind='bar')\n",
    "plt.ylabel('sales($)')\n",
    "plt.xlabel('Month')\n",
    "plt.show ()"
   ]
  },
  {
   "cell_type": "code",
   "execution_count": 8,
   "id": "216747af",
   "metadata": {},
   "outputs": [],
   "source": [
    "city = widgets.Dropdown(name = 'City')"
   ]
  },
  {
   "cell_type": "code",
   "execution_count": 9,
   "id": "892e9efc",
   "metadata": {},
   "outputs": [
    {
     "data": {
      "text/plain": [
       "['Dallas  (TX)',\n",
       " 'Boston  (MA)',\n",
       " 'Los Angeles  (CA)',\n",
       " 'San Francisco  (CA)',\n",
       " 'Seattle  (WA)',\n",
       " 'Atlanta  (GA)',\n",
       " 'New York City  (NY)',\n",
       " 'Portland  (OR)',\n",
       " 'Austin  (TX)',\n",
       " 'Portland  (ME)']"
      ]
     },
     "execution_count": 9,
     "metadata": {},
     "output_type": "execute_result"
    }
   ],
   "source": [
    "list (df.City.unique())"
   ]
  },
  {
   "cell_type": "code",
   "execution_count": 10,
   "id": "998f06cc",
   "metadata": {},
   "outputs": [],
   "source": [
    "wid_city = widgets.Dropdown(name='city')"
   ]
  },
  {
   "cell_type": "code",
   "execution_count": 11,
   "id": "31599615",
   "metadata": {},
   "outputs": [],
   "source": [
    "wid_city.options = list (df.City.unique())"
   ]
  },
  {
   "cell_type": "code",
   "execution_count": 21,
   "id": "ab5a7fd7",
   "metadata": {},
   "outputs": [
    {
     "data": {
      "application/vnd.jupyter.widget-view+json": {
       "model_id": "6af8c3363a224e23b58f2ace60e5b791",
       "version_major": 2,
       "version_minor": 0
      },
      "text/plain": [
       "Dropdown(description='city', index=2, options=('Dallas  (TX)', 'Boston  (MA)', 'Los Angeles  (CA)', 'San Franc…"
      ]
     },
     "metadata": {},
     "output_type": "display_data"
    }
   ],
   "source": [
    "wid_city"
   ]
  },
  {
   "cell_type": "code",
   "execution_count": 22,
   "id": "9f734366",
   "metadata": {},
   "outputs": [
    {
     "data": {
      "text/plain": [
       "'Los Angeles  (CA)'"
      ]
     },
     "execution_count": 22,
     "metadata": {},
     "output_type": "execute_result"
    }
   ],
   "source": [
    "wid_city.value"
   ]
  },
  {
   "cell_type": "code",
   "execution_count": 23,
   "id": "32f7ba71",
   "metadata": {},
   "outputs": [
    {
     "data": {
      "image/png": "[encoded data removed]",
      "text/plain": [
       "<Figure size 432x288 with 1 Axes>"
      ]
     },
     "metadata": {
      "needs_background": "light"
     },
     "output_type": "display_data"
    }
   ],
   "source": [
    "df_tmp =df[df['City']==wid_city.value].copy()\n",
    "ax = df_tmp.groupby (['Month']).sum() ['sales'].plot(kind='bar')\n",
    "plt.ylabel('Sales($)')\n",
    "plt.xlabel('Month')\n",
    "plt.show ()"
   ]
  },
  {
   "cell_type": "code",
   "execution_count": 24,
   "id": "a4790eb3",
   "metadata": {
    "scrolled": false
   },
   "outputs": [
    {
     "data": {
      "application/vnd.jupyter.widget-view+json": {
       "model_id": "6b896fb4c7564fce8d1ec1fbf9c91ea1",
       "version_major": 2,
       "version_minor": 0
      },
      "text/plain": [
       "interactive(children=(Dropdown(description='city', options=('Dallas  (TX)', 'Boston  (MA)', 'Los Angeles  (CA)…"
      ]
     },
     "metadata": {},
     "output_type": "display_data"
    }
   ],
   "source": [
    "wid_city = widgets.Dropdown(name='city')\n",
    "wid_city.options = list (df.City.unique())\n",
    "\n",
    "wid_product = widgets.Dropdown(name='product')\n",
    "wid_product.options = list(df.Product.unique())\n",
    "\n",
    "def func (city,product):\n",
    "    \n",
    "    df_tmp = df[df['City'] == wid_city.value].copy()\n",
    "    df_tmp = df_tmp[df_tmp['Product'] == wid_product.value]\n",
    "        \n",
    "    ax = df_tmp.groupby(['Month']).sum()['sales'].plot(kind='bar')\n",
    "    plt.ylabel('Sales($)')\n",
    "    plt.xlabel('Month')\n",
    "    plt.show()\n",
    "    \n",
    "interactive_plot = widgets.interactive(func, city=wid_city, product=wid_product)\n",
    "    \n",
    "output = interactive_plot.children[-1]\n",
    "output.layout.height = '350px'\n",
    "    \n",
    "interactive_plot"
   ]
  },
  {
   "cell_type": "code",
   "execution_count": null,
   "id": "98b1c16d",
   "metadata": {},
   "outputs": [],
   "source": []
  },
  {
   "cell_type": "code",
   "execution_count": null,
   "id": "b4378e22",
   "metadata": {},
   "outputs": [],
   "source": []
  }
 ],
 "metadata": {
  "kernelspec": {
   "display_name": "Python 3",
   "language": "python",
   "name": "python3"
  },
  "language_info": {
   "codemirror_mode": {
    "name": "ipython",
    "version": 3
   },
   "file_extension": ".py",
   "mimetype": "text/x-python",
   "name": "python",
   "nbconvert_exporter": "python",
   "pygments_lexer": "ipython3",
   "version": "3.8.8"
  }
 },
 "nbformat": 4,
 "nbformat_minor": 5
}
